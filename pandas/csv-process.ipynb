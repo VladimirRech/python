{
 "cells": [
  {
   "cell_type": "markdown",
   "id": "1cf81ed0",
   "metadata": {},
   "source": [
    "# Comparando dois DataFrame\n",
    "A proposta é comparar dois dataframes carregados à partir de documentos CSV para descobrir quais os itens que estão contidos nos dois e quais não estão.\n",
    "\n",
    "A função em Pandas para isto é `isin()` conforme pode ser conferido nos exemplos a seguir.\n",
    "\n",
    "Um guia com exemplos mais completo está neste [post](https://datagy.io/pandas-isin/)"
   ]
  },
  {
   "cell_type": "code",
   "execution_count": 33,
   "id": "d7b07740",
   "metadata": {},
   "outputs": [
    {
     "data": {
      "text/html": [
       "<div>\n",
       "<style scoped>\n",
       "    .dataframe tbody tr th:only-of-type {\n",
       "        vertical-align: middle;\n",
       "    }\n",
       "\n",
       "    .dataframe tbody tr th {\n",
       "        vertical-align: top;\n",
       "    }\n",
       "\n",
       "    .dataframe thead th {\n",
       "        text-align: right;\n",
       "    }\n",
       "</style>\n",
       "<table border=\"1\" class=\"dataframe\">\n",
       "  <thead>\n",
       "    <tr style=\"text-align: right;\">\n",
       "      <th></th>\n",
       "      <th>codigo</th>\n",
       "      <th>descricao</th>\n",
       "      <th>aliquota</th>\n",
       "    </tr>\n",
       "  </thead>\n",
       "  <tbody>\n",
       "    <tr>\n",
       "      <th>0</th>\n",
       "      <td>1</td>\n",
       "      <td>Codigo1</td>\n",
       "      <td>5</td>\n",
       "    </tr>\n",
       "    <tr>\n",
       "      <th>1</th>\n",
       "      <td>2</td>\n",
       "      <td>Codigo2</td>\n",
       "      <td>5</td>\n",
       "    </tr>\n",
       "    <tr>\n",
       "      <th>2</th>\n",
       "      <td>3</td>\n",
       "      <td>Codigo3</td>\n",
       "      <td>5</td>\n",
       "    </tr>\n",
       "    <tr>\n",
       "      <th>3</th>\n",
       "      <td>4</td>\n",
       "      <td>Codigo4</td>\n",
       "      <td>5</td>\n",
       "    </tr>\n",
       "    <tr>\n",
       "      <th>4</th>\n",
       "      <td>5</td>\n",
       "      <td>Codigo5</td>\n",
       "      <td>5</td>\n",
       "    </tr>\n",
       "  </tbody>\n",
       "</table>\n",
       "</div>"
      ],
      "text/plain": [
       "   codigo descricao  aliquota\n",
       "0       1   Codigo1         5\n",
       "1       2   Codigo2         5\n",
       "2       3   Codigo3         5\n",
       "3       4   Codigo4         5\n",
       "4       5   Codigo5         5"
      ]
     },
     "execution_count": 33,
     "metadata": {},
     "output_type": "execute_result"
    }
   ],
   "source": [
    "import pandas as pd\n",
    "file1 = 'csv1.csv'\n",
    "file2 = 'csv2.csv'\n",
    "# Lê o documento passando qual o separador.\n",
    "# Por padrão, considera vírgula como separador.\n",
    "lst1 = pd.read_csv(file1, sep=';')\n",
    "lst1.head(5)\n",
    "\n",
    "# Mostra a estrutura do arquivo\n",
    "# print(lst1.info())"
   ]
  },
  {
   "cell_type": "code",
   "execution_count": 35,
   "id": "2df71c8d",
   "metadata": {},
   "outputs": [
    {
     "data": {
      "text/html": [
       "<div>\n",
       "<style scoped>\n",
       "    .dataframe tbody tr th:only-of-type {\n",
       "        vertical-align: middle;\n",
       "    }\n",
       "\n",
       "    .dataframe tbody tr th {\n",
       "        vertical-align: top;\n",
       "    }\n",
       "\n",
       "    .dataframe thead th {\n",
       "        text-align: right;\n",
       "    }\n",
       "</style>\n",
       "<table border=\"1\" class=\"dataframe\">\n",
       "  <thead>\n",
       "    <tr style=\"text-align: right;\">\n",
       "      <th></th>\n",
       "      <th>codigo</th>\n",
       "      <th>descricao</th>\n",
       "      <th>aliquota</th>\n",
       "    </tr>\n",
       "  </thead>\n",
       "  <tbody>\n",
       "    <tr>\n",
       "      <th>0</th>\n",
       "      <td>1</td>\n",
       "      <td>Codigo1</td>\n",
       "      <td>5</td>\n",
       "    </tr>\n",
       "    <tr>\n",
       "      <th>1</th>\n",
       "      <td>2</td>\n",
       "      <td>Codigo2</td>\n",
       "      <td>5</td>\n",
       "    </tr>\n",
       "    <tr>\n",
       "      <th>2</th>\n",
       "      <td>3</td>\n",
       "      <td>Codigo3</td>\n",
       "      <td>5</td>\n",
       "    </tr>\n",
       "    <tr>\n",
       "      <th>3</th>\n",
       "      <td>4</td>\n",
       "      <td>Codigo4</td>\n",
       "      <td>5</td>\n",
       "    </tr>\n",
       "    <tr>\n",
       "      <th>4</th>\n",
       "      <td>5</td>\n",
       "      <td>Codigo5</td>\n",
       "      <td>5</td>\n",
       "    </tr>\n",
       "  </tbody>\n",
       "</table>\n",
       "</div>"
      ],
      "text/plain": [
       "   codigo descricao  aliquota\n",
       "0       1   Codigo1         5\n",
       "1       2   Codigo2         5\n",
       "2       3   Codigo3         5\n",
       "3       4   Codigo4         5\n",
       "4       5   Codigo5         5"
      ]
     },
     "execution_count": 35,
     "metadata": {},
     "output_type": "execute_result"
    }
   ],
   "source": [
    "lst2 = pd.read_csv(file2, sep=';')\n",
    "lst2.head(5)"
   ]
  },
  {
   "cell_type": "code",
   "execution_count": null,
   "id": "efe83565",
   "metadata": {},
   "outputs": [],
   "source": [
    "# comparando as duas listas\n",
    "lst2.isin(lst1)"
   ]
  },
  {
   "cell_type": "code",
   "execution_count": null,
   "id": "a0560a02",
   "metadata": {},
   "outputs": [],
   "source": [
    "# Comparando lista 1 com a 2\n",
    "lst1.isin(lst2)"
   ]
  },
  {
   "cell_type": "code",
   "execution_count": 36,
   "id": "1d3a778f",
   "metadata": {},
   "outputs": [
    {
     "name": "stdout",
     "output_type": "stream",
     "text": [
      "Iguais\n",
      "\n",
      "   codigo descricao  aliquota\n",
      "0       1   Codigo1         5\n",
      "1       2   Codigo2         5\n",
      "Diferentes\n",
      "\n",
      "    codigo descricao  aliquota\n",
      "2        3   Codigo3         5\n",
      "3        4   Codigo4         5\n",
      "4        5   Codigo5         5\n",
      "5        6   Codigo6         5\n",
      "6        7   Codigo7         5\n",
      "7        8   Codigo8         5\n",
      "8        9   Codigo9         5\n",
      "9       10  Codigo10         5\n",
      "10      11  Codigo11         5\n"
     ]
    }
   ],
   "source": [
    "# Testando IsIn\n",
    "# https://datagy.io/pandas-isin/\n",
    "# Encontra os iguais\n",
    "df = lst1[lst1['codigo'].isin([1,2])]\n",
    "print('Iguais\\n')\n",
    "print(df)\n",
    "\n",
    "# Encontra os diferentes através do operador '~'\n",
    "df2 = lst1[~lst1['codigo'].isin([1,2])]\n",
    "print('Diferentes\\n')\n",
    "print(df2)\n"
   ]
  },
  {
   "cell_type": "code",
   "execution_count": 37,
   "id": "bac60113",
   "metadata": {},
   "outputs": [
    {
     "name": "stdout",
     "output_type": "stream",
     "text": [
      "******\n",
      "Existe\n",
      "******\n",
      "\n",
      "   codigo descricao  aliquota\n",
      "0       1   Codigo1         5\n",
      "1       2   Codigo2         5\n",
      "2       3   Codigo3         5\n",
      "3       4   Codigo4         5\n",
      "4       5   Codigo5         5\n",
      "5       6   Codigo6         5\n",
      "6       7   Codigo7         5\n",
      "7       8   Codigo8         5\n",
      "8       9   Codigo9         5\n",
      "\n",
      "**********\n",
      "Não existe\n",
      "**********\n",
      "\n",
      "    codigo descricao  aliquota\n",
      "9       10  Codigo10         5\n",
      "10      11  Codigo11         5\n",
      "\n",
      "**********\n",
      "Não existe\n",
      "**********\n",
      "\n",
      "    codigo descricao  aliquota\n",
      "9       20  Codigo10         5\n",
      "10      12  Codigo12         5\n"
     ]
    }
   ],
   "source": [
    "# Comparando\n",
    "df = lst1[lst1['codigo'].isin(lst2['codigo'])]\n",
    "print('******\\nExiste\\n******\\n')\n",
    "print(df)\n",
    "df2 = lst1[~lst1['codigo'].isin(lst2['codigo'])]\n",
    "print('\\n**********\\nNão existe\\n**********\\n')\n",
    "print(df2)\n",
    "\n",
    "# Comparação reversa\n",
    "df3 = lst2[~lst2['codigo'].isin(lst1['codigo'])]\n",
    "print('\\n**********\\nNão existe\\n**********\\n')\n",
    "print(df3)\n"
   ]
  }
 ],
 "metadata": {
  "kernelspec": {
   "display_name": "Python 3 (ipykernel)",
   "language": "python",
   "name": "python3"
  },
  "language_info": {
   "codemirror_mode": {
    "name": "ipython",
    "version": 3
   },
   "file_extension": ".py",
   "mimetype": "text/x-python",
   "name": "python",
   "nbconvert_exporter": "python",
   "pygments_lexer": "ipython3",
   "version": "3.9.7"
  }
 },
 "nbformat": 4,
 "nbformat_minor": 5
}

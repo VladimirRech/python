{
 "cells": [
  {
   "cell_type": "markdown",
   "id": "5960e454",
   "metadata": {},
   "source": [
    "# Passo 1\n",
    "\n",
    "## Pontos conhecidos\n",
    "Básico do Python e do Jupyter\n",
    "\n",
    "## Como fazer\n",
    "## O que falta fazer"
   ]
  },
  {
   "cell_type": "code",
   "execution_count": 8,
   "id": "cff8dfa7",
   "metadata": {},
   "outputs": [
    {
     "name": "stdout",
     "output_type": "stream",
     "text": [
      "       posto  preco\n",
      "0      Shell   6.79\n",
      "1   Ipiranga   6.79\n",
      "2  Petrobrás   6.89\n",
      "3        Fox   6.69\n",
      "\n",
      "Versão:\n",
      "1.3.3\n"
     ]
    }
   ],
   "source": [
    "# Importando a biblioteca\n",
    "# import pandas\n",
    "# Importando e criando um alias\n",
    "import pandas as pd\n",
    "\n",
    "# Criando a tabela ou dataset\n",
    "# Segue o padrão { 'nome da coluna': ['valor1', 'valor2', 'valor3'],\n",
    "#                  'nome da coluna': ['valor1', 'valor2', 'valor3'] }\n",
    "# Cria o array original\n",
    "mydataset = {\n",
    "    'posto': [ 'Shell', 'Ipiranga', 'Petrobrás', 'Fox' ],\n",
    "    'preco': [ 6.79, 6.79, 6.89, 6.69 ]\n",
    "}\n",
    "\n",
    "# Transforma em um dataset\n",
    "# myvar = pandas.DataFrame(mydataset)\n",
    "# Trabalhando com o alias do pandas\n",
    "myvar = pd.DataFrame(mydataset)\n",
    "print(myvar)\n",
    "\n",
    "# Imprimindo a versão do Pandas\n",
    "print('\\nVersão:\\n'+ pd.__version__)"
   ]
  }
 ],
 "metadata": {
  "celltoolbar": "Raw Cell Format",
  "kernelspec": {
   "display_name": "Python 3 (ipykernel)",
   "language": "python",
   "name": "python3"
  },
  "language_info": {
   "codemirror_mode": {
    "name": "ipython",
    "version": 3
   },
   "file_extension": ".py",
   "mimetype": "text/x-python",
   "name": "python",
   "nbconvert_exporter": "python",
   "pygments_lexer": "ipython3",
   "version": "3.9.7"
  }
 },
 "nbformat": 4,
 "nbformat_minor": 5
}

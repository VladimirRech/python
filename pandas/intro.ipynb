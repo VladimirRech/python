{
 "cells": [
  {
   "cell_type": "markdown",
   "id": "5960e454",
   "metadata": {},
   "source": [
    "# Passo 1\n",
    "\n",
    "## Pontos conhecidos\n",
    "## Como fazer\n",
    "## O que falta fazer"
   ]
  },
  {
   "cell_type": "code",
   "execution_count": 4,
   "id": "cff8dfa7",
   "metadata": {},
   "outputs": [],
   "source": [
    "# Importando a biblioteca\n",
    "import pandas"
   ]
  }
 ],
 "metadata": {
  "kernelspec": {
   "display_name": "Python 3 (ipykernel)",
   "language": "python",
   "name": "python3"
  },
  "language_info": {
   "codemirror_mode": {
    "name": "ipython",
    "version": 3
   },
   "file_extension": ".py",
   "mimetype": "text/x-python",
   "name": "python",
   "nbconvert_exporter": "python",
   "pygments_lexer": "ipython3",
   "version": "3.9.7"
  }
 },
 "nbformat": 4,
 "nbformat_minor": 5
}
